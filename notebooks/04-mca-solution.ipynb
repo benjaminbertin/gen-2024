{
 "cells": [
  {
   "cell_type": "markdown",
   "id": "be7420f3",
   "metadata": {},
   "source": [
    "# 4. Autres méthodes d'analyse factorielle\n",
    "\n",
    "Dans ce notebook, nous allons utiliser d'autres méthodes d'analyse factorielle en utilisant la librairie [prince](https://github.com/MaxHalford/prince).\n",
    "\n",
    "Cette librairie n'est probablement pas installée par défaut :"
   ]
  },
  {
   "cell_type": "code",
   "execution_count": null,
   "id": "6d5bfa4d",
   "metadata": {},
   "outputs": [],
   "source": [
    "!pip uninstall -y prince"
   ]
  },
  {
   "cell_type": "code",
   "execution_count": null,
   "id": "7cc56d15",
   "metadata": {
    "scrolled": true
   },
   "outputs": [],
   "source": [
    "!pip install prince==0.7.1"
   ]
  },
  {
   "cell_type": "code",
   "execution_count": null,
   "id": "54c28a59",
   "metadata": {},
   "outputs": [],
   "source": [
    "import pandas as pd\n",
    "import numpy as np\n",
    "import matplotlib.pyplot as plt\n",
    "from matplotlib.collections import LineCollection\n",
    "import seaborn as sns\n",
    "import prince"
   ]
  },
  {
   "cell_type": "markdown",
   "id": "110d8799",
   "metadata": {},
   "source": [
    "La cellule suivante est nécessaire pour assurer la compatibilité de prince 0.7.1 avec Google Colab :"
   ]
  },
  {
   "cell_type": "code",
   "execution_count": null,
   "id": "8d9cc6f1",
   "metadata": {},
   "outputs": [],
   "source": [
    "import warnings\n",
    "warnings.simplefilter(action='ignore', category=FutureWarning)\n",
    "np.float = float"
   ]
  },
  {
   "cell_type": "markdown",
   "id": "23d3b228",
   "metadata": {},
   "source": [
    "## 4.1 Analyse factorielle des correspondances\n",
    "\n",
    "Nous allons appliquer une analyse des correspondances (Correspondence Analysis) sur un jeu de données contenant un tableau de contingence du nombre de prix nobels obtenus par certains pays dans certaines catégories.\n",
    "\n",
    "Chargez le jeu de données `nobel_data.csv` dans un dataframe en utilisant le paramètre `index_col` pour indiquer à Pandas que l'index de notre dataframe sera la colonne `Country` :"
   ]
  },
  {
   "cell_type": "code",
   "execution_count": null,
   "id": "3d782d71",
   "metadata": {},
   "outputs": [],
   "source": [
    "df = pd.read_csv('/data/nobel_data.csv', index_col='Country')\n",
    "df"
   ]
  },
  {
   "cell_type": "markdown",
   "id": "4062881a",
   "metadata": {},
   "source": [
    "Instancier la classe `CA` (les paramètres par défaut conviennent pour notre cas d'étude) et exécuter la méthode ` fit` sur la dataframe :"
   ]
  },
  {
   "cell_type": "code",
   "execution_count": null,
   "id": "95147c4f",
   "metadata": {
    "scrolled": true
   },
   "outputs": [],
   "source": [
    "ca = prince.CA(n_components=2)\n",
    "ca.fit(df)"
   ]
  },
  {
   "cell_type": "markdown",
   "id": "249e55da",
   "metadata": {},
   "source": [
    "Visualisez les coordonnées des lignes et des colonnes avec les méthodes `row_coordinates`, et `column_coordinates` de votre objet `ca` :"
   ]
  },
  {
   "cell_type": "code",
   "execution_count": null,
   "id": "8542b5e7",
   "metadata": {},
   "outputs": [],
   "source": [
    "ca.row_coordinates(df)"
   ]
  },
  {
   "cell_type": "code",
   "execution_count": null,
   "id": "c054c683",
   "metadata": {},
   "outputs": [],
   "source": [
    "ca.column_coordinates(df)"
   ]
  },
  {
   "cell_type": "markdown",
   "id": "9f008027",
   "metadata": {},
   "source": [
    "Projetez ces coordonnées dans le plan obtenu avec la méthode `plot_coordinates` (vous pouvez utiliser le paramètre `figsize=(8, 8)` pour obtenir un graphique plus lisible).\n",
    "\n",
    "Sachant que les points (aussi bien les pays que les catégories de prix Nobel) de notre tableau de contingence sont éloignés du centre de notre projection, que pouvez-vous en conclure ?"
   ]
  },
  {
   "cell_type": "code",
   "execution_count": null,
   "id": "06476fb4",
   "metadata": {},
   "outputs": [],
   "source": [
    "ca.plot_coordinates(df, figsize=(8, 8))"
   ]
  },
  {
   "cell_type": "markdown",
   "id": "d6c3d2e9",
   "metadata": {},
   "source": [
    "L'Italie et la France semblent plus liés au prix Nobel de littérature. Le Japon et l'Allemagne à ceux de physique et de chimie. Le Royaume-Uni se rapproche du profil moyen des pays (au centre de notre projection)."
   ]
  },
  {
   "cell_type": "markdown",
   "id": "428c5d30",
   "metadata": {},
   "source": [
    "Les deux cellules suivantes affichent une représentation des profils moyen des lignes et des colonnes de notre tableau de contingence. Observez-vous un lien avec le graphique précédent ?"
   ]
  },
  {
   "cell_type": "code",
   "execution_count": null,
   "id": "05de7cf0",
   "metadata": {},
   "outputs": [],
   "source": [
    "df_norm_country = df.T*100/df.T.sum()\n",
    "df_norm_country['Mean profile'] = df_norm_country.mean(axis=1)\n",
    "sns.heatmap(df_norm_country.T, cmap=\"YlGnBu\", annot=True, cbar=False)"
   ]
  },
  {
   "cell_type": "code",
   "execution_count": null,
   "id": "2671c25b",
   "metadata": {},
   "outputs": [],
   "source": [
    "df_norm_category = df*100/df.sum()\n",
    "df_norm_category['Mean profile'] = df_norm_category.mean(axis=1)\n",
    "sns.heatmap(df_norm_category, cmap=\"YlGnBu\", annot=True, cbar=False)"
   ]
  },
  {
   "cell_type": "markdown",
   "id": "529a9c1c",
   "metadata": {},
   "source": [
    "Sur le graphique des profils moyen par pays (premier graphique), nous observons que le Royaume-Uni a un profil proche du profil moyen alors que les profils d'autres pays s'en écartent. Par exemple, la France et l'Italie ont sont surreprésentés sur les Nobels de littérature."
   ]
  },
  {
   "cell_type": "markdown",
   "id": "638449e1",
   "metadata": {},
   "source": [
    "Nous allons maintenant appliquer cette méthode pour découvrir les correspondances pour des variables qualitatives d'un dataset contenant le résultat d'un recencement aux états-unis : [UCI Adult Dataset](https://archive.ics.uci.edu/ml/datasets/adult).\n",
    "\n",
    "Chargez le dataset `adult-data.csv` dans une dataframe et déterminez quelles sont les variables qualitatives :"
   ]
  },
  {
   "cell_type": "code",
   "execution_count": null,
   "id": "98252a11",
   "metadata": {},
   "outputs": [],
   "source": [
    "df = pd.read_csv('/data/adult-data.csv')\n",
    "print(df.shape)\n",
    "df.head()"
   ]
  },
  {
   "cell_type": "markdown",
   "id": "ffc1ed90",
   "metadata": {},
   "source": [
    "Créez des tableaux de contingence pour certains couples de variables qualitatives en utilisant la méthode [pandas.crosstab](https://pandas.pydata.org/pandas-docs/stable/reference/api/pandas.crosstab.html) (les deux premiers arguments de cette méthode seront des colonnes de notre dataframe, par exemple `df.education`) et réalisez une analyse factorielle des correspondances sur ces couples de variables :"
   ]
  },
  {
   "cell_type": "code",
   "execution_count": null,
   "id": "79ec9cc8",
   "metadata": {},
   "outputs": [],
   "source": [
    "df_ct = pd.crosstab(df.education, df.occupation)\n",
    "df_ct"
   ]
  },
  {
   "cell_type": "code",
   "execution_count": null,
   "id": "5ac5932e",
   "metadata": {},
   "outputs": [],
   "source": [
    "ca = prince.CA(n_components=2)\n",
    "ca.fit(df_ct)\n",
    "ca.plot_coordinates(df_ct, figsize=(12, 12))"
   ]
  },
  {
   "cell_type": "markdown",
   "id": "d856419c",
   "metadata": {},
   "source": [
    "La première composante semble liée au niveau de diplôme. Nous observons une relation entre les niveaux de diplôme et le type d'emploi occupé."
   ]
  },
  {
   "cell_type": "markdown",
   "id": "68014c27",
   "metadata": {},
   "source": [
    "## 4.2 Analyse des correspondances multiples\n",
    "\n",
    "Nous allons appliquer une Analyse des correspondances multiples (Multiple Correspondence Analysis) sur un jeu de données contenant des informations sur des ballons [UCI balloons dataset](https://archive.ics.uci.edu/ml/datasets/balloons).\n",
    "\n",
    "Chargez ce dataset dans une dataframe depuis l'adresse `https://archive.ics.uci.edu/ml/machine-learning-databases/balloons/adult+stretch.data` (la méthode `read_csv` de Pandas peut charger des fichiers CSV depuis une URL) et définissez les colonnes comme étant la liste `['Color', 'Size', 'Action', 'Age', 'Inflated']` :"
   ]
  },
  {
   "cell_type": "code",
   "execution_count": null,
   "id": "c39d79c5",
   "metadata": {
    "scrolled": true
   },
   "outputs": [],
   "source": [
    "df_balloons = pd.read_csv('https://archive.ics.uci.edu/ml/machine-learning-databases/balloons/adult+stretch.data')\n",
    "df_balloons.columns = ['Color', 'Size', 'Action', 'Age', 'Inflated']\n",
    "print(df_balloons.shape)\n",
    "df_balloons.head()"
   ]
  },
  {
   "cell_type": "markdown",
   "id": "71049b65",
   "metadata": {},
   "source": [
    "Instancier la classe `MCA` de prince (les paramètres par défaut conviennent pour notre cas d'étude) et exécuter la méthode ` fit` sur la dataframe :"
   ]
  },
  {
   "cell_type": "code",
   "execution_count": null,
   "id": "61730f18",
   "metadata": {},
   "outputs": [],
   "source": [
    "mca = prince.MCA()\n",
    "mca = mca.fit(df_balloons)"
   ]
  },
  {
   "cell_type": "markdown",
   "id": "59760e61",
   "metadata": {},
   "source": [
    "Projetez les individus et les variables sur les deux premières composantes principales  avec la méthode `plot_coordinates` :\n",
    "* les paramètres `x_component` et `y_component` prennent des entiers en paramètres pour indiquer les composantes à utiliser\n",
    "* vous pouvez utiliser le paramètre `figsize=(8, 8)` pour obtenir un graphique plus lisible\n",
    "* testez les effets des paramètres booléens `show_row_points`, `show_row_labels`, `show_column_points` et `show_column_labels`\n",
    "* que pouvez-vous conclure sur cette approche sur ce dataset à partir de l'inertie des composantes principales ? (affichées sur le graphique ou accessibles avec l'attribut `explained_inertia_` de votre instance de `MCA`)"
   ]
  },
  {
   "cell_type": "code",
   "execution_count": null,
   "id": "190afe6f",
   "metadata": {},
   "outputs": [],
   "source": [
    "import matplotlib.pyplot as plt\n",
    "ax = mca.plot_coordinates(\n",
    "    X=df_balloons,\n",
    "    figsize=(8, 8),\n",
    "    show_row_points=True,\n",
    "    row_points_size=10,\n",
    "    show_row_labels=False,\n",
    "    show_column_points=True,\n",
    "    column_points_size=30,\n",
    "    show_column_labels=True,\n",
    "    legend_n_cols=1\n",
    ")\n",
    "plt.show(block=False)"
   ]
  },
  {
   "cell_type": "markdown",
   "id": "97b5845d",
   "metadata": {},
   "source": [
    "Les deux premières composantes principales expliquent une bonne partie de la variabilité de notre jeu de données (40% et 12%)."
   ]
  },
  {
   "cell_type": "markdown",
   "id": "da3087fc",
   "metadata": {},
   "source": [
    "Les variables affichées dans ce graphique ont été transformées en indicateurs booléens (one hot encoding), utilisez la méthode [pandas.get_dummies](https://pandas.pydata.org/docs/reference/api/pandas.get_dummies.html) pour afficher le résultat de cette transformation :"
   ]
  },
  {
   "cell_type": "code",
   "execution_count": null,
   "id": "70d59435",
   "metadata": {},
   "outputs": [],
   "source": [
    "pd.get_dummies(df_balloons)"
   ]
  },
  {
   "cell_type": "markdown",
   "id": "6a234d3e",
   "metadata": {},
   "source": [
    "Nous allons appliquer une MCA sur le dataset du recensement américain. Rechargez le si besoin, puis supprimer les colonnes numériques (`fnlwgt`, `age`, `education-num`, `hours-per-week`, `capital-gain`, `capital-loss` et `salary`) avant d'appliquer la MCA.\n",
    "\n",
    "En fonction de l'inertie obtenue pour les premières composantes, que pouvez-vous conclure sur l'efficacité de cette approche appliquée à ce dataset ?"
   ]
  },
  {
   "cell_type": "code",
   "execution_count": null,
   "id": "5c50ad41",
   "metadata": {},
   "outputs": [],
   "source": [
    "df.head()"
   ]
  },
  {
   "cell_type": "code",
   "execution_count": null,
   "id": "733bf282",
   "metadata": {},
   "outputs": [],
   "source": [
    "df_cleaned_for_mca = df.drop(columns=['age', 'education-num', 'fnlwgt', 'capital-gain', 'capital-loss', 'salary', 'hours-per-week'])"
   ]
  },
  {
   "cell_type": "code",
   "execution_count": null,
   "id": "e2e63c96",
   "metadata": {},
   "outputs": [],
   "source": [
    "mca = prince.MCA(\n",
    "    n_components=2,\n",
    "    n_iter=3,\n",
    "    copy=True,\n",
    "    check_input=True,\n",
    "    engine='auto',\n",
    "    random_state=42\n",
    ")\n",
    "mca = mca.fit(df_cleaned_for_mca)"
   ]
  },
  {
   "cell_type": "code",
   "execution_count": null,
   "id": "4b5766e7",
   "metadata": {},
   "outputs": [],
   "source": [
    "df_cleaned_for_mca.dtypes"
   ]
  },
  {
   "cell_type": "code",
   "execution_count": null,
   "id": "b4645f2e",
   "metadata": {},
   "outputs": [],
   "source": [
    "ax = mca.plot_coordinates(\n",
    "    X=df_cleaned_for_mca,\n",
    "    figsize=(20, 20),\n",
    "    show_row_points=False,\n",
    "    show_column_points=True,\n",
    "    show_column_labels=True\n",
    ")\n",
    "plt.show(block=False)"
   ]
  },
  {
   "cell_type": "markdown",
   "id": "53acb29e",
   "metadata": {},
   "source": [
    "L'inertie des deux premiers axes étant faible, cette approche sur ce jeu de données nous aide peu à comprendre nos variables."
   ]
  },
  {
   "cell_type": "markdown",
   "id": "b1ab3364",
   "metadata": {},
   "source": [
    "## 4.3 Analyse factorielle des données mixtes\n",
    "\n",
    "Nous allons appliquer une Analyse factorielle des données mixtes (Factor analysis of mixed data) sur un jeu de données d'un recensement américan.\n",
    "\n",
    "Instancier la classe `FAMD` de prince (passer la valeur 4 pour le paramètre `n_components`, ce paramètre défini le nombre de composantes souhaitées) et exécuter la méthode ` fit` sur la dataframe :"
   ]
  },
  {
   "cell_type": "code",
   "execution_count": null,
   "id": "55568fcb",
   "metadata": {},
   "outputs": [],
   "source": [
    "famd = prince.FAMD(n_components=70)\n",
    "famd = famd.fit(df)"
   ]
  },
  {
   "cell_type": "markdown",
   "id": "818724e3",
   "metadata": {},
   "source": [
    "L'attribut `groups` de votre instane de `FAMD` indique quelles sont les attributs qualitatifs et quantitatifs de notre dataset. Vous pouvez retrouver cette information avec Pandas :\n",
    "```python\n",
    "num_cols = df.select_dtypes(np.number).columns.tolist()\n",
    "cat_cols = list(set(df.columns) - set(num_cols))\n",
    "```"
   ]
  },
  {
   "cell_type": "code",
   "execution_count": null,
   "id": "b965f7cf",
   "metadata": {},
   "outputs": [],
   "source": [
    "famd.groups"
   ]
  },
  {
   "cell_type": "code",
   "execution_count": null,
   "id": "4ecbc852",
   "metadata": {},
   "outputs": [],
   "source": [
    "num_cols = df.select_dtypes(np.number).columns.tolist()\n",
    "cat_cols = list(set(df.columns) - set(num_cols))\n",
    "\n",
    "num_cols, cat_cols"
   ]
  },
  {
   "cell_type": "markdown",
   "id": "1bce7c82",
   "metadata": {},
   "source": [
    "Projetez les individus sur les deux premières composantes principales  avec la méthode `plot_row_coordinates` :\n",
    "* les paramètres `x_component` et `y_component` prennent des entiers en paramètres pour indiquer les composantes à utiliser\n",
    "* vous pouvez utiliser le paramètre `figsize=(20, 20)` pour obtenir un graphique plus lisible\n",
    "* que pouvez-vous conclure sur cette approche sur ce dataset à partir de l'inertie des composantes principales par apport à celles obtenues avec l'analyse des correspondances multiples ? (affichées sur le graphique ou accessibles avec l'attribut `explained_inertia_` de votre instance de `FAMD`)\n",
    "* testez l'effet du paramètre `color_labels` en lui passant la colonne `salary` de notre dataframe d'origine. Que pouvez-vous conclure ?\n",
    "* essayez d'autres couples de composantes (et éventuellement plus de composantes)"
   ]
  },
  {
   "cell_type": "code",
   "execution_count": null,
   "id": "eacc34c3",
   "metadata": {
    "scrolled": false
   },
   "outputs": [],
   "source": [
    "ax = famd.plot_row_coordinates(\n",
    "    df,\n",
    "    figsize=(10, 10),\n",
    "    x_component=0,\n",
    "    y_component=1,\n",
    "    color_labels=['Salary {}'.format(t) for t in df['salary']]\n",
    ")"
   ]
  },
  {
   "cell_type": "code",
   "execution_count": null,
   "id": "c9f4a426",
   "metadata": {},
   "outputs": [],
   "source": [
    "ax = famd.plot_row_coordinates(\n",
    "    df,\n",
    "    figsize=(10, 10),\n",
    "    x_component=0,\n",
    "    y_component=1,\n",
    "    color_labels=df['education']\n",
    ")"
   ]
  },
  {
   "cell_type": "code",
   "execution_count": null,
   "id": "7f39ca29",
   "metadata": {},
   "outputs": [],
   "source": [
    "ax = famd.plot_row_coordinates(\n",
    "    df,\n",
    "    figsize=(10, 10),\n",
    "    x_component=2,\n",
    "    y_component=3,\n",
    "    color_labels=df['education']\n",
    ")"
   ]
  },
  {
   "cell_type": "markdown",
   "id": "dd6c3d5c",
   "metadata": {},
   "source": [
    "L'inertie expliquée par les deux premières composantes est nettement plus importante que pour l'ACM mais reste faible (5.8% et 4.6%). La coloration des points du jeu de données projetés fait apparaitre que la partie droite de notre projection est liée à des niveaux de salaire plus élevés."
   ]
  },
  {
   "cell_type": "markdown",
   "id": "351c5899",
   "metadata": {},
   "source": [
    "La fonction suivante vous permet d'afficher un graphique représentant la variance expliquée par les différentes composantes principales et la variance cumulée.\n",
    "\n",
    "Combien vous faut-il de composantes pour expliquer plus de 75% de la variance ?"
   ]
  },
  {
   "cell_type": "code",
   "execution_count": null,
   "id": "20de3d23",
   "metadata": {},
   "outputs": [],
   "source": [
    "def display_scree_plot(famd):\n",
    "    '''Display a scree plot for the pca'''\n",
    "\n",
    "    scree = famd.explained_inertia_*100\n",
    "    plt.figure(figsize=(15,8))\n",
    "    plt.bar(np.arange(len(scree))+1, scree)\n",
    "    plt.plot(np.arange(len(scree))+1, scree.cumsum(),c=\"red\",marker='o')\n",
    "    plt.xlabel(\"Number of principal components\")\n",
    "    plt.ylabel(\"Percentage explained variance\")\n",
    "    plt.title(\"Scree plot\")\n",
    "    plt.show(block=False)"
   ]
  },
  {
   "cell_type": "code",
   "execution_count": null,
   "id": "71f87834",
   "metadata": {},
   "outputs": [],
   "source": [
    "display_scree_plot(famd)"
   ]
  },
  {
   "cell_type": "markdown",
   "id": "f4958a59",
   "metadata": {},
   "source": [
    "Il faut retenir les 62 premières composantes pour expliquer plus de 75% de la variance de notre jeu de données."
   ]
  },
  {
   "cell_type": "code",
   "execution_count": null,
   "id": "e4658d18",
   "metadata": {
    "scrolled": true
   },
   "outputs": [],
   "source": [
    "famd.explained_inertia_[:62].sum()"
   ]
  },
  {
   "cell_type": "markdown",
   "id": "d2894a96",
   "metadata": {},
   "source": [
    "L'attribut `V_` de votre instance de FAMD contient les vecteurs propres des composantes (i.e. : les coefficient). La fonction suivante est une adaptation à la FAMD de la fonction affichant les cercles de corrélation de l'ACP, ses paramètres sont :\n",
    "* `famd` : une instance de FAMD\n",
    "* `df` : la dataframe sur laquelle la FAMD a été appliquée\n",
    "* `axis_ranks` : list, les indices des paires d'axes à afficher (chaque paire affichera un nouveau cercle de corrélation), exemple : [(0,1)]\n",
    "* `min_variance` : seuil inférieur de variance pour les variables à conserver (au dela d'un certain nombre de variables, le graphique devient illisible)\n",
    "\n",
    "Appliquez cette fonction sur votre FAMD avec ou sans seuil de variance et expliquez la coloration du nuage de point obtenu précédement."
   ]
  },
  {
   "cell_type": "code",
   "execution_count": null,
   "id": "22db5f81",
   "metadata": {},
   "outputs": [],
   "source": [
    "def display_circles(famd, df, axis_ranks, label_rotation=0, lims=None, min_variance=0.15):\n",
    "    \"\"\"Display correlation circles, one for each factorial plane\"\"\"\n",
    "\n",
    "    pcs = pd.DataFrame(famd.V_, columns=famd._build_X_global(df).columns).T\n",
    "\n",
    "    # For each factorial plane\n",
    "    for d1, d2 in axis_ranks: \n",
    "        if min_variance is not None:\n",
    "            fpcs = pcs[(pcs[d1] >= min_variance) | (pcs[d2] > min_variance)]\n",
    "        else:\n",
    "            fpcs = pcs\n",
    "        labels = fpcs.index.tolist()\n",
    "\n",
    "        # Initialise the matplotlib figure\n",
    "        fig, ax = plt.subplots(figsize=(10,10))\n",
    "\n",
    "        # Determine the limits of the chart\n",
    "        xmin, xmax, ymin, ymax = -1, 1, -1, 1\n",
    "#         if lims is not None :\n",
    "#             xmin, xmax, ymin, ymax = lims\n",
    "#         elif fpcs.shape[1] < 30 :\n",
    "#             xmin, xmax, ymin, ymax = -1, 1, -1, 1\n",
    "#         else :\n",
    "#             xmin, xmax, ymin, ymax = min(fpcs[d1]), max(fpcs[d1]), min(fpcs[d2]), max(fpcs[d2])\n",
    "\n",
    "        # Add arrows\n",
    "        # If there are more than 30 arrows, we do not display the triangle at the end\n",
    "        if fpcs.shape[0] < 30 :\n",
    "            plt.quiver(np.zeros(fpcs.shape[0]), np.zeros(fpcs.shape[0]),\n",
    "               fpcs[d1], fpcs[d2], \n",
    "               angles='xy', scale_units='xy', scale=1, color=\"grey\")\n",
    "            # (see the doc : https://matplotlib.org/api/_as_gen/matplotlib.pyplot.quiver.html)\n",
    "        else:\n",
    "            lines = [[[0,0],[x,y]] for x,y in fpcs[[d1,d2]].values]\n",
    "            ax.add_collection(LineCollection(lines, axes=ax, alpha=.1, color='black'))\n",
    "\n",
    "        # Display variable names\n",
    "        if labels is not None:  \n",
    "            for i,(x, y) in enumerate(fpcs[[d1,d2]].values):\n",
    "                if x >= xmin and x <= xmax and y >= ymin and y <= ymax :\n",
    "                    plt.text(x, y, labels[i], fontsize='14', ha='center', va='center', rotation=label_rotation, color=\"blue\", alpha=0.5)\n",
    "\n",
    "        # Display circle\n",
    "        circle = plt.Circle((0,0), 1, facecolor='none', edgecolor='b')\n",
    "        plt.gca().add_artist(circle)\n",
    "\n",
    "        # Define the limits of the chart\n",
    "        plt.xlim(xmin, xmax)\n",
    "        plt.ylim(ymin, ymax)\n",
    "\n",
    "        # Display grid lines\n",
    "        plt.plot([-1, 1], [0, 0], color='grey', ls='--')\n",
    "        plt.plot([0, 0], [-1, 1], color='grey', ls='--')\n",
    "\n",
    "        # Label the axes, with the percentage of variance explained\n",
    "        plt.xlabel('PC{} ({}%)'.format(d1+1, round(100*famd.explained_inertia_[d1],1)))\n",
    "        plt.ylabel('PC{} ({}%)'.format(d2+1, round(100*famd.explained_inertia_[d2],1)))\n",
    "\n",
    "        plt.title(\"Correlation Circle (PC{} and PC{})\".format(d1+1, d2+1))\n",
    "        plt.show(block=False)"
   ]
  },
  {
   "cell_type": "code",
   "execution_count": null,
   "id": "76f5b047",
   "metadata": {},
   "outputs": [],
   "source": [
    "display_circles(famd, df, [(0,1)], min_variance=0)"
   ]
  },
  {
   "cell_type": "code",
   "execution_count": null,
   "id": "0ade32bb",
   "metadata": {},
   "outputs": [],
   "source": [
    "display_circles(famd, df, [(0,1)], min_variance=0.20)"
   ]
  },
  {
   "cell_type": "code",
   "execution_count": null,
   "id": "07537afc",
   "metadata": {},
   "outputs": [],
   "source": [
    "display_circles(famd, df, [(2,3)], min_variance=0.20)"
   ]
  },
  {
   "cell_type": "markdown",
   "id": "8dd215fa",
   "metadata": {},
   "source": [
    "En choisissant la valeur 0.2 pour l'attribut `min_variance`, nous observons plus clairement que les attributs `hours-per-week` et `education-num` ont un impact positif sur la première composante. Le niveau de salaire est donc corrélé aux nombres d'heures travaillées et au niveau d'éducation."
   ]
  },
  {
   "cell_type": "markdown",
   "id": "60dde9d6",
   "metadata": {},
   "source": [
    "La cellule suivante permet de visualiser les coefficients des vecteurs propres de nos composantes :"
   ]
  },
  {
   "cell_type": "code",
   "execution_count": null,
   "id": "4c9083b3",
   "metadata": {},
   "outputs": [],
   "source": [
    "print(famd.V_.shape)\n",
    "famd._build_X_global(df).columns\n",
    "df_comp = pd.DataFrame(famd.V_, columns=famd._build_X_global(df).columns).T\n",
    "df_comp"
   ]
  },
  {
   "cell_type": "markdown",
   "id": "de3a1e46",
   "metadata": {},
   "source": [
    "## 4.4 Application au dataset Titanic\n",
    "\n",
    "Le fichier `titanic.csv` contient des données qualitatives et quantitatives sur certains passagers du titanic ainsi qu'une classe booléenne indiquant s'ils ont survécu ou non (`Survived`). La colonne d'index est `PassengerId`.\n",
    "\n",
    "Utilisez les méthodes précédentes pour analyser ce dataset.\n",
    "\n",
    "Attention : la variable `Name` n'est probablement pas utile. Certaines variables contiennent des valeurs manquantes, vous pouvez les laissez tels quels ou affecter la moyenne ou le mode ([pandas.DataFrame.mode](https://pandas.pydata.org/docs/reference/api/pandas.DataFrame.mode.html)) des colonnes pour ces individus.\n",
    "\n",
    "\n",
    "Voici une définition des variables :\n",
    "* Survived: Survival (0 = No, 1 = Yes)\n",
    "* Pclass: Ticket class (1 = 1st, 2 = 2nd, 3 = 3rd)\n",
    "* Name: name\n",
    "* Sex: Sex\t\n",
    "* Age: Age in years\t\n",
    "* Sibsp: # of siblings / spouses aboard the Titanic\t\n",
    "* Parch: # of parents / children aboard the Titanic\t\n",
    "* Ticket: Ticket number\t\n",
    "* Fare: Passenger fare\t\n",
    "* Cabin: Cabin number\t\n",
    "* Embarked: Port of Embarkation\tC = Cherbourg, Q = Queenstown, S = Southampton"
   ]
  },
  {
   "cell_type": "code",
   "execution_count": null,
   "id": "6cebf889",
   "metadata": {},
   "outputs": [],
   "source": [
    "df = pd.read_csv('/data/titanic.csv', index_col='PassengerId')\n",
    "print(df.shape)\n",
    "df.head()"
   ]
  },
  {
   "cell_type": "markdown",
   "id": "a7e301f4",
   "metadata": {},
   "source": [
    "Nous nous intéressons aux valeurs nulles de notre dataset :"
   ]
  },
  {
   "cell_type": "code",
   "execution_count": null,
   "id": "e3089590",
   "metadata": {},
   "outputs": [],
   "source": [
    "df.isna().any()"
   ]
  },
  {
   "cell_type": "markdown",
   "id": "033d2d12",
   "metadata": {},
   "source": [
    "La variable `Age` contient 177 valeurs nulles, nous pouvons les remplacer par l'âge moyen :"
   ]
  },
  {
   "cell_type": "code",
   "execution_count": null,
   "id": "65cb0e91",
   "metadata": {},
   "outputs": [],
   "source": [
    "df.Age.hist()"
   ]
  },
  {
   "cell_type": "code",
   "execution_count": null,
   "id": "0aede6b8",
   "metadata": {},
   "outputs": [],
   "source": [
    "df.Age.value_counts(dropna=False)"
   ]
  },
  {
   "cell_type": "code",
   "execution_count": null,
   "id": "a1728ad8",
   "metadata": {},
   "outputs": [],
   "source": [
    "df['Age'] = df.Age.fillna(value=df.Age.mean())"
   ]
  },
  {
   "cell_type": "markdown",
   "id": "caf3319b",
   "metadata": {},
   "source": [
    "La variable `Cabin` contient 687 valeurs nulles (sur 891 individus), de plus elle possèdent un trop grand nombre de modalités, il est préférable de ne pas en tenir compte :"
   ]
  },
  {
   "cell_type": "code",
   "execution_count": null,
   "id": "2c8cfab0",
   "metadata": {},
   "outputs": [],
   "source": [
    "df.Cabin.value_counts(dropna=False)"
   ]
  },
  {
   "cell_type": "code",
   "execution_count": null,
   "id": "929e27d6",
   "metadata": {},
   "outputs": [],
   "source": [
    "df.drop(columns='Cabin', inplace=True)"
   ]
  },
  {
   "cell_type": "markdown",
   "id": "af764013",
   "metadata": {},
   "source": [
    "La variable `Embarked` ne contient que deux valeurs nulles :"
   ]
  },
  {
   "cell_type": "code",
   "execution_count": null,
   "id": "9db1bc0d",
   "metadata": {},
   "outputs": [],
   "source": [
    "df.Embarked.value_counts(dropna=False)"
   ]
  },
  {
   "cell_type": "markdown",
   "id": "7bf81b08",
   "metadata": {},
   "source": [
    "Cette variable semble corrélée à la variable `Pclass`, nous pouvons donc imputer la valeur `C` pour la variable `Embarked` de ces deux individus :"
   ]
  },
  {
   "cell_type": "code",
   "execution_count": null,
   "id": "8fe6ee69",
   "metadata": {
    "scrolled": true
   },
   "outputs": [],
   "source": [
    "display('Embarked == S')\n",
    "display(df[df.Embarked == 'S'].describe())\n",
    "display('Embarked == C')\n",
    "display(df[df.Embarked == 'C'].describe())\n",
    "display('Embarked == Q')\n",
    "display(df[df.Embarked == 'Q'].describe())"
   ]
  },
  {
   "cell_type": "code",
   "execution_count": null,
   "id": "b8144a08",
   "metadata": {},
   "outputs": [],
   "source": [
    "df[df.Embarked.isna()]"
   ]
  },
  {
   "cell_type": "code",
   "execution_count": null,
   "id": "215dfc69",
   "metadata": {},
   "outputs": [],
   "source": [
    "df['Embarked'] = df.Embarked.fillna('C')"
   ]
  },
  {
   "cell_type": "code",
   "execution_count": null,
   "id": "859c8194",
   "metadata": {},
   "outputs": [],
   "source": [
    "df[df.Embarked.isna()].describe()"
   ]
  },
  {
   "cell_type": "markdown",
   "id": "42ca090d",
   "metadata": {},
   "source": [
    "Finalement, la variable `Name` ne serait pas utile à moins d'appliquer un pré-traitement (tel que retrouver des liens de parentés en se fiant au nom de famille) :"
   ]
  },
  {
   "cell_type": "code",
   "execution_count": null,
   "id": "a1c7072e",
   "metadata": {},
   "outputs": [],
   "source": [
    "df_cleaned = df.drop(columns=['Name', 'Ticket', 'Survived'])"
   ]
  },
  {
   "cell_type": "markdown",
   "id": "dfd6c4dd",
   "metadata": {},
   "source": [
    "Nous pouvons ensuite appliquer une AFDM et visualiser nos individus et nos variables sur le premier plan factoriel :"
   ]
  },
  {
   "cell_type": "code",
   "execution_count": null,
   "id": "4bf70f68",
   "metadata": {},
   "outputs": [],
   "source": [
    "famd = prince.FAMD(n_components=70)\n",
    "famd = famd.fit(df_cleaned)"
   ]
  },
  {
   "cell_type": "code",
   "execution_count": null,
   "id": "95a156ae",
   "metadata": {},
   "outputs": [],
   "source": [
    "ax = famd.plot_row_coordinates(\n",
    "    df_cleaned,\n",
    "    figsize=(10, 10),\n",
    "    x_component=0,\n",
    "    y_component=1,\n",
    "    color_labels=['Survived {}'.format(t) for t in df['Survived']]\n",
    ")"
   ]
  },
  {
   "cell_type": "code",
   "execution_count": null,
   "id": "fc5f6174",
   "metadata": {},
   "outputs": [],
   "source": [
    "display_circles(famd, df_cleaned, [(0,1)], min_variance=0.2)"
   ]
  },
  {
   "cell_type": "markdown",
   "id": "7b7c6b5f",
   "metadata": {},
   "source": [
    "La première composante semble liée à la survie des passagers. Cette composante est positivement liée au prix du billet et aux femmes et négativement lié à la classe de la cabine. Cette analyse confirme ce que connaissons des survivants du Titanic : des femmes issues de milieux favorisés."
   ]
  }
 ],
 "metadata": {
  "kernelspec": {
   "display_name": "Python 3",
   "language": "python",
   "name": "python3"
  },
  "language_info": {
   "codemirror_mode": {
    "name": "ipython",
    "version": 3
   },
   "file_extension": ".py",
   "mimetype": "text/x-python",
   "name": "python",
   "nbconvert_exporter": "python",
   "pygments_lexer": "ipython3",
   "version": "3.8.8"
  }
 },
 "nbformat": 4,
 "nbformat_minor": 5
}
