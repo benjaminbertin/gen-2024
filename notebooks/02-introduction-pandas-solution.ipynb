{
 "cells": [
  {
   "cell_type": "markdown",
   "id": "cfbf3ce8",
   "metadata": {},
   "source": [
    "# 2. Introduction à Pandas\n",
    "\n",
    "<img align=\"center\" src=\"https://habrastorage.org/files/10c/15f/f3d/10c15ff3dcb14abdbabdac53fed6d825.jpg\"/>\n",
    "<br>"
   ]
  },
  {
   "cell_type": "markdown",
   "id": "6d845474",
   "metadata": {},
   "source": [
    "**[Pandas](http://pandas.pydata.org)** est une librairire Python permettant l'analyse de données, elle est fréquemment utilisée par les data scientist pour lire et manipuler des données dans des formats tabulaires tel que `.csv`, `.tsv`, or `.xlsx`. Avec l'aide de `Matplotlib` et `Seaborn`, Pandas fournit des méthodes d'epxloration visuelles des données tabulaires."
   ]
  },
  {
   "cell_type": "markdown",
   "id": "4e8d2d47",
   "metadata": {},
   "source": [
    "## 2.1 DataFrame\n",
    "\n",
    "Les structures de données principale de Pandas sont les **Series** et les **DataFrame**. La première est un tableau à une dimension contenant des données d'un type précis. La deuxième est une structure à deux dimensions, i.e. : un tableau à deux dimensions (ou encore une matrice), dont chaque colonne contient des données d'un type précis. Dans une `DataFrame` les lignes correspondent à des individus (objets, observations ...) et les colonnes à des attributs (features).\n",
    "\n",
    "Nous commencons par les imports nécessaire pour que Pandas soit disponible dans notre environnement d'exécution :"
   ]
  },
  {
   "cell_type": "code",
   "execution_count": null,
   "id": "ea939cb5",
   "metadata": {},
   "outputs": [],
   "source": [
    "import numpy as np\n",
    "import pandas as pd\n",
    "# we don't like warnings\n",
    "# you can comment the following 2 lines if you'd like to\n",
    "import warnings\n",
    "warnings.filterwarnings('ignore')"
   ]
  },
  {
   "cell_type": "markdown",
   "id": "68c7f71a",
   "metadata": {},
   "source": [
    "Puis nous créons une DataFrame depuis un dictionnaire :"
   ]
  },
  {
   "cell_type": "code",
   "execution_count": null,
   "id": "3f021def",
   "metadata": {},
   "outputs": [],
   "source": [
    "cars = {'make': ['Ford', 'Honda', 'Toyota', 'Tesla'],\n",
    "       'model': ['Taurus', 'Accord', 'Camry', 'Model S'],\n",
    "       'MSRP': [27595, 23570, 23495, 68000]}          \n",
    "df = pd.DataFrame(cars)   # creating DataFrame from dictionary\n",
    "df                     # display the table"
   ]
  },
  {
   "cell_type": "code",
   "execution_count": null,
   "id": "5dd0c008",
   "metadata": {},
   "outputs": [],
   "source": [
    "display(df)"
   ]
  },
  {
   "cell_type": "code",
   "execution_count": null,
   "id": "5df2f3e3",
   "metadata": {},
   "outputs": [],
   "source": [
    "print(df)"
   ]
  },
  {
   "cell_type": "code",
   "execution_count": null,
   "id": "a3774b2e",
   "metadata": {},
   "outputs": [],
   "source": [
    "#df.to_markdown()"
   ]
  },
  {
   "cell_type": "code",
   "execution_count": null,
   "id": "bc204d18",
   "metadata": {},
   "outputs": [],
   "source": [
    "print(df.index)       # print the row indices\n",
    "print(df.columns)     # print the column indices"
   ]
  },
  {
   "cell_type": "code",
   "execution_count": null,
   "id": "aa56f9f5",
   "metadata": {},
   "outputs": [],
   "source": [
    "df['year'] = 2018    # add column with same value\n",
    "# add a column with a different value for each row:\n",
    "df['dealership'] = ['Courtesy Ford','Capital Honda','Spartan Toyota',None]\n",
    "df"
   ]
  },
  {
   "cell_type": "markdown",
   "id": "e336ab4e",
   "metadata": {},
   "source": [
    "Les éléments d'une DataFrame peuvent être accéder de différentes manières :"
   ]
  },
  {
   "cell_type": "code",
   "execution_count": null,
   "id": "cfa60734",
   "metadata": {},
   "outputs": [],
   "source": [
    "# accessing an entire column will return a Series object\n",
    "\n",
    "print(type(df['make']))\n",
    "print(df['make'])    # returns the make column"
   ]
  },
  {
   "cell_type": "code",
   "execution_count": null,
   "id": "5ec21aec",
   "metadata": {},
   "outputs": [],
   "source": [
    "# accessing an entire row will return a Series object\n",
    "\n",
    "print(type(df.iloc[2]))\n",
    "print(df.iloc[2])       # returns the 3rd row of DataFrame"
   ]
  },
  {
   "cell_type": "code",
   "execution_count": null,
   "id": "9afbb97a",
   "metadata": {},
   "outputs": [],
   "source": [
    "# accessing a specific element of the DataFrame\n",
    "\n",
    "print(df.iloc[1,2])    # retrieving second row, third column\n",
    "print(df.loc[1,'MSRP'])    # retrieving second row, column named 'MSRP'\n",
    "df.loc[1]['MSRP']    # retrieving second row, column named 'MSRP'"
   ]
  },
  {
   "cell_type": "code",
   "execution_count": null,
   "id": "d228d088",
   "metadata": {},
   "outputs": [],
   "source": [
    "# accessing a slice of the DataFrame\n",
    "\n",
    "df.iloc[1:3,1:3]"
   ]
  },
  {
   "cell_type": "markdown",
   "id": "1f048351",
   "metadata": {},
   "source": [
    "Les attributs shape et size permettent de connaitre le nombre de lignes et colonnes ainsi que le nombre d'élements :"
   ]
  },
  {
   "cell_type": "code",
   "execution_count": null,
   "id": "7aa1ea1a",
   "metadata": {},
   "outputs": [],
   "source": [
    "print('df.shape =', df.shape)    # shape returns a tuple (number of rows, number of columns)\n",
    "print('df.size =', df.size)"
   ]
  },
  {
   "cell_type": "markdown",
   "id": "a3af5f23",
   "metadata": {},
   "source": [
    "Nombre d'individus dans la DataFrame "
   ]
  },
  {
   "cell_type": "markdown",
   "id": "d5dcdbb3",
   "metadata": {},
   "source": [
    "## 2.2 Filtrage d'une DataFrame\n",
    "\n",
    "La sélection d'une ou plusieurs lignes peut se faire en appliquant un filtre booléen :"
   ]
  },
  {
   "cell_type": "code",
   "execution_count": null,
   "id": "e650b8b0",
   "metadata": {},
   "outputs": [],
   "source": [
    "df[df.MSRP > 25000]"
   ]
  },
  {
   "cell_type": "markdown",
   "id": "f2b6cec9",
   "metadata": {},
   "source": [
    "Le filtre est simplement constitué d'une Series contenant une valeur booléenne pour chaque ligne de notre DataFrame qui sera ensuite appliqué comme masque de sélection sur la DataFrame:"
   ]
  },
  {
   "cell_type": "code",
   "execution_count": null,
   "id": "02cf11da",
   "metadata": {},
   "outputs": [],
   "source": [
    "df.MSRP > 25000"
   ]
  },
  {
   "cell_type": "markdown",
   "id": "ec7e0026",
   "metadata": {},
   "source": [
    "Il existe plusieurs méthodes utiles permettant de filtrer les DataFrames :"
   ]
  },
  {
   "cell_type": "code",
   "execution_count": null,
   "id": "0c001cd9",
   "metadata": {},
   "outputs": [],
   "source": [
    "df[df.dealership.isna()]    # retrieving rows with a null value on the dealership column"
   ]
  },
  {
   "cell_type": "code",
   "execution_count": null,
   "id": "1c00700c",
   "metadata": {},
   "outputs": [],
   "source": [
    "df[df.MSRP.between(23000, 24000)]    # retrieving rows with MSRP between 23k and 24k"
   ]
  },
  {
   "cell_type": "markdown",
   "id": "8b88201f",
   "metadata": {},
   "source": [
    "Les conditions dans un filtre peuvent être combinées avec les opérateurs `&` (ET booléen) et `|` (ou booléen) :"
   ]
  },
  {
   "cell_type": "code",
   "execution_count": null,
   "id": "d24fc9ff",
   "metadata": {},
   "outputs": [],
   "source": [
    "# retrieving rows with MSRP < 30k and the model name contains an o\n",
    "df[\n",
    "    (df['MSRP'] < 30000) & df.model.str.contains('o')\n",
    "]"
   ]
  },
  {
   "cell_type": "markdown",
   "id": "f1e0c818",
   "metadata": {},
   "source": [
    "Modification d'une colonne pour un individu :"
   ]
  },
  {
   "cell_type": "code",
   "execution_count": null,
   "id": "f959d1ce",
   "metadata": {},
   "outputs": [],
   "source": [
    "df.loc[1, 'dealership'] = 42\n",
    "df"
   ]
  },
  {
   "cell_type": "markdown",
   "id": "25f31c76",
   "metadata": {},
   "source": [
    "La comparaison d'une colonne contenant des chaines de caractères avec une valeur entière renverra une erreur :"
   ]
  },
  {
   "cell_type": "code",
   "execution_count": null,
   "id": "8e9b647d",
   "metadata": {
    "scrolled": true
   },
   "outputs": [],
   "source": [
    "df.dealership < 200"
   ]
  },
  {
   "cell_type": "markdown",
   "id": "a6c0d12f",
   "metadata": {},
   "source": [
    "## 2.3 Opérations arithmétiques\n",
    "\n",
    "Pour illustrer ces opérations nous allons créer une DataFrame contenant des données numériques synthétiques à l'aide de numpy (numerical python):"
   ]
  },
  {
   "cell_type": "code",
   "execution_count": null,
   "id": "f0562eeb",
   "metadata": {},
   "outputs": [],
   "source": [
    "npdata = np.random.randn(5,3)  # create a 5 by 3 random matrix\n",
    "columnNames = ['x1','x2','x3']\n",
    "data = pd.DataFrame(npdata, columns=columnNames)\n",
    "data"
   ]
  },
  {
   "cell_type": "code",
   "execution_count": null,
   "id": "f8b27304",
   "metadata": {},
   "outputs": [],
   "source": [
    "print(data)\n",
    "\n",
    "print('Data transpose operation:')\n",
    "print(data.T)    # transpose operation\n",
    "\n",
    "print('Addition:')\n",
    "print(data + 4)    # addition operation\n",
    "\n",
    "print('Multiplication:')\n",
    "print(data * 10)   # multiplication operation"
   ]
  },
  {
   "cell_type": "code",
   "execution_count": null,
   "id": "bc7e531e",
   "metadata": {},
   "outputs": [],
   "source": [
    "print('data =')\n",
    "print(data)\n",
    "\n",
    "columnNames = ['x1','x2','x3']\n",
    "data2 = pd.DataFrame(np.random.randn(5,3), columns=columnNames)\n",
    "print('\\ndata2 =')\n",
    "print(data2)\n",
    "\n",
    "print('\\ndata + data2 = ')\n",
    "print(data.add(data2))\n",
    "\n",
    "print('\\ndata * data2 = ')\n",
    "print(data.mul(data2))"
   ]
  },
  {
   "cell_type": "code",
   "execution_count": null,
   "id": "1deb4de9",
   "metadata": {},
   "outputs": [],
   "source": [
    "print(data.abs())    # get the absolute value for each element\n",
    "\n",
    "print('\\nMaximum value per column:')\n",
    "print(data.max())    # get maximum value for each column\n",
    "\n",
    "print('\\nMinimum value per row:')\n",
    "print(data.min(axis=1))    # get minimum value for each row\n",
    "\n",
    "print('\\nSum of values per column:')\n",
    "print(data.sum())    # get sum of values for each column\n",
    "\n",
    "print('\\nAverage value per row:')\n",
    "print(data.mean(axis=1))    # get average value for each row\n",
    "\n",
    "print('\\nCalculate max - min per column')\n",
    "f = lambda x: x.max() - x.min()\n",
    "print(data.apply(f))\n",
    "\n",
    "print('\\nCalculate max - min per row')\n",
    "f = lambda x: x.max() - x.min()\n",
    "print(data.apply(f, axis=1))"
   ]
  },
  {
   "cell_type": "code",
   "execution_count": null,
   "id": "6a76d9f0",
   "metadata": {
    "scrolled": true
   },
   "outputs": [],
   "source": [
    "# add a max minus min column\n",
    "def get_max_minus_min(x):\n",
    "    print(type(x))\n",
    "    print(x)\n",
    "    return x.max() - x.min()\n",
    "data['max_minus_min'] = data.apply(get_max_minus_min, axis=1)\n",
    "\n",
    "\n",
    "data['max_minus_min'] = data.apply(\n",
    "    lambda x: x.max() - x.min(),\n",
    "    axis=1\n",
    ")\n",
    "data"
   ]
  },
  {
   "cell_type": "markdown",
   "id": "2325b744",
   "metadata": {},
   "source": [
    "## 2.4 Exercice\n",
    "\n",
    "Nous reprennons le fichier `CO2_Emissions_Canada.csv`. Pour lire un fichier CSV nous pouvons utiliser la méthode `read_csv` de Pandas (la méthode `head()` affiche les 5 première lignes de notre DataFrame).\n",
    "\n",
    "La description accompagnant ce dataset est la suivante :\n",
    "\n",
    "**Model**\n",
    "* 4WD/4X4 = Four-wheel drive\n",
    "* AWD = All-wheel drive\n",
    "* FFV = Flexible-fuel vehicle\n",
    "* SWB = Short wheelbase\n",
    "* LWB = Long wheelbase\n",
    "* EWB = Extended wheelbase\n",
    "\n",
    "**Transmission**\n",
    "* A = Automatic\n",
    "* AM = Automated manual\n",
    "* AS = Automatic with select shift\n",
    "* AV = Continuously variable\n",
    "* M = Manual\n",
    "* 3 - 10 = Number of gears\n",
    "\n",
    "**Fuel type**\n",
    "* X = Regular gasoline\n",
    "* Z = Premium gasoline\n",
    "* D = Diesel\n",
    "* E = Ethanol (E85)\n",
    "* N = Natural gas\n",
    "\n",
    "**Fuel Consumption**\n",
    "\n",
    "City and highway fuel consumption ratings are shown in litres per 100 kilometres (L/100 km) - the combined rating (55% city, 45% hwy) is shown in L/100 km and in miles per gallon (mpg)\n",
    "\n",
    "**CO2 Emissions**\n",
    "\n",
    "The tailpipe emissions of carbon dioxide (in grams per kilometre) for combined city and highway driving"
   ]
  },
  {
   "cell_type": "code",
   "execution_count": null,
   "id": "757d0689",
   "metadata": {},
   "outputs": [],
   "source": [
    "df = pd.read_csv('/data/CO2_Emissions_Canada.csv')\n",
    "df.head()"
   ]
  },
  {
   "cell_type": "markdown",
   "id": "ef45ac90",
   "metadata": {},
   "source": [
    "Affichons les dimensions de notre dataset, le nom des features et leurs types :"
   ]
  },
  {
   "cell_type": "code",
   "execution_count": null,
   "id": "c0c9d64d",
   "metadata": {},
   "outputs": [],
   "source": [
    "print(df.shape)"
   ]
  },
  {
   "cell_type": "markdown",
   "id": "5ac96eeb",
   "metadata": {},
   "source": [
    "Le dataset contient 7385 lignes et 12 attributs.\n",
    "\n",
    "Ses colonnes (i.e. : attributs ou features) sont :"
   ]
  },
  {
   "cell_type": "code",
   "execution_count": null,
   "id": "7c0dfb50",
   "metadata": {},
   "outputs": [],
   "source": [
    "print(df.columns)"
   ]
  },
  {
   "cell_type": "markdown",
   "id": "113ffdd4",
   "metadata": {},
   "source": [
    "Nous pouvons utiliser la méthode `info()` pour obtenir des informations générales sur notre dataframe :"
   ]
  },
  {
   "cell_type": "code",
   "execution_count": null,
   "id": "4743cee2",
   "metadata": {},
   "outputs": [],
   "source": [
    "print(df.info())"
   ]
  },
  {
   "cell_type": "code",
   "execution_count": null,
   "id": "05cd222e",
   "metadata": {},
   "outputs": [],
   "source": [
    "df['CO2 Emissions(g/km)']"
   ]
  },
  {
   "cell_type": "markdown",
   "id": "d6b98152",
   "metadata": {},
   "source": [
    "`int64`, `float64` et `object` sont les types de nos features. Nous n'avons aucune valeur manquante.\n",
    "\n",
    "Nous pouvons changer le type d'une colonnes avec la méthode `astype` comme nous l'avons fait avec un cast `int(variable)` précédement.\n",
    "\n",
    "La méthode `describe` affiche un ensemble de statistiques pour chaque feature numériques (`int64` et `float64`): nombre de valeurs non manquantes, moyenne, variance, médiane, min, max, quartiles."
   ]
  },
  {
   "cell_type": "code",
   "execution_count": null,
   "id": "349b2862",
   "metadata": {},
   "outputs": [],
   "source": [
    "df.describe().T"
   ]
  },
  {
   "cell_type": "markdown",
   "id": "f51f199d",
   "metadata": {},
   "source": [
    "Répondez aux questions suivantes :\n",
    "* Combien de ligne le fichier contient-il ?\n",
    "* Quel est le CO2 maximum émis par km par un véhicule ?\n",
    "* Combien de véhicules émettent une tel quantité de CO2 par km ?\n",
    "* Combien de CO2 les véhicules émettent en moyenne ?\n",
    "* Quels sont les 5 véhicules qui émettent le moins de CO2 par km (vous pouvez utiliser la méthode [`sort_values`](https://pandas.pydata.org/docs/reference/api/pandas.DataFrame.sort_values.html)) ?\n",
    "* Y-a-t'il des doublons dans ce dataset et si oui, combien (vous pouvez utiliser la méthode [`duplicated`](https://pandas.pydata.org/docs/reference/api/pandas.DataFrame.duplicated.html)) ?\n",
    "* Quelles sont les fabricants qui produisent les véhicules les plus polluants en moyenne (vous pouvez utiliser la méthode [`groupby`](https://pandas.pydata.org/docs/reference/api/pandas.DataFrame.groupby.html) - voir aussi [l'introduction tutorial de Pandas](https://pandas.pydata.org/pandas-docs/stable/getting_started/intro_tutorials/06_calculate_statistics.html#aggregating-statistics-grouped-by-category)) ?"
   ]
  },
  {
   "cell_type": "markdown",
   "id": "6bfa46f5",
   "metadata": {},
   "source": [
    "Nombre de lignes du fichier :"
   ]
  },
  {
   "cell_type": "code",
   "execution_count": null,
   "id": "075d065d",
   "metadata": {},
   "outputs": [],
   "source": [
    "print(len(df))\n",
    "print(len(df.index))\n",
    "df.shape[0]"
   ]
  },
  {
   "cell_type": "markdown",
   "id": "eac312fb",
   "metadata": {},
   "source": [
    "Recherche du véhicule avec le maximum d'émissions de CO2 par km :"
   ]
  },
  {
   "cell_type": "code",
   "execution_count": null,
   "id": "17b43625",
   "metadata": {},
   "outputs": [],
   "source": [
    "max_co2 = df['CO2 Emissions(g/km)'].max()\n",
    "df[df['CO2 Emissions(g/km)'] == max_co2]"
   ]
  },
  {
   "cell_type": "markdown",
   "id": "65e6624d",
   "metadata": {},
   "source": [
    "Calcul de la moyenne des émissions de CO2 par km :"
   ]
  },
  {
   "cell_type": "code",
   "execution_count": null,
   "id": "afe7fb21",
   "metadata": {},
   "outputs": [],
   "source": [
    "df['CO2 Emissions(g/km)'].mean()"
   ]
  },
  {
   "cell_type": "markdown",
   "id": "9fe97458",
   "metadata": {},
   "source": [
    "Recherche des 5 véhicules émettant le moins de CO2 par km (deux méthodes possibles) :"
   ]
  },
  {
   "cell_type": "code",
   "execution_count": null,
   "id": "aec8a414",
   "metadata": {},
   "outputs": [],
   "source": [
    "#df.sort_values(by='CO2 Emissions(g/km)', ascending=False).head(10)\n",
    "df.nsmallest(5, ['CO2 Emissions(g/km)'])"
   ]
  },
  {
   "cell_type": "markdown",
   "id": "2dd014a2",
   "metadata": {},
   "source": [
    "Nombre de doublons avec ou sans remise :"
   ]
  },
  {
   "cell_type": "code",
   "execution_count": null,
   "id": "bff2669a",
   "metadata": {},
   "outputs": [],
   "source": [
    "len(df[df.duplicated(keep=False)]), len(df[df.duplicated()])\n",
    "df.duplicated().sum()"
   ]
  },
  {
   "cell_type": "markdown",
   "id": "a8811f54",
   "metadata": {},
   "source": [
    "Suppression des doublons :"
   ]
  },
  {
   "cell_type": "code",
   "execution_count": null,
   "id": "3623fbce",
   "metadata": {},
   "outputs": [],
   "source": [
    "df.drop_duplicates(inplace=True)"
   ]
  },
  {
   "cell_type": "code",
   "execution_count": null,
   "id": "000720a4",
   "metadata": {
    "scrolled": true
   },
   "outputs": [],
   "source": [
    "df"
   ]
  },
  {
   "cell_type": "markdown",
   "id": "cb8ae63b",
   "metadata": {},
   "source": [
    "Calcul de la moyenne des émissions de CO2 par km après suppression des doublons :"
   ]
  },
  {
   "cell_type": "code",
   "execution_count": null,
   "id": "d99ae833",
   "metadata": {},
   "outputs": [],
   "source": [
    "df['CO2 Emissions(g/km)'].mean()"
   ]
  },
  {
   "cell_type": "markdown",
   "id": "5cdf6549",
   "metadata": {},
   "source": [
    "Modification de l'attribut `Model` pour passer toutes les valeurs en majuscule :"
   ]
  },
  {
   "cell_type": "code",
   "execution_count": null,
   "id": "0275910a",
   "metadata": {},
   "outputs": [],
   "source": [
    "df['Model'] = df.Model.str.upper()"
   ]
  },
  {
   "cell_type": "markdown",
   "id": "b05830fe",
   "metadata": {},
   "source": [
    "Suppression des doublons après modification de l'attribut `Model` puis calcul de la moyenne de C02 par km :"
   ]
  },
  {
   "cell_type": "code",
   "execution_count": null,
   "id": "72729029",
   "metadata": {},
   "outputs": [],
   "source": [
    "df.drop_duplicates(inplace=True)"
   ]
  },
  {
   "cell_type": "code",
   "execution_count": null,
   "id": "02056d29",
   "metadata": {},
   "outputs": [],
   "source": [
    "df['CO2 Emissions(g/km)'].mean()"
   ]
  },
  {
   "cell_type": "markdown",
   "id": "07e05486",
   "metadata": {},
   "source": [
    "Agrégation des véhicules par fabricant et trie des fabricant par émissions de CO2 par km :"
   ]
  },
  {
   "cell_type": "code",
   "execution_count": null,
   "id": "5e85d123",
   "metadata": {
    "scrolled": true
   },
   "outputs": [],
   "source": [
    "df_grouped = df.groupby('Make').mean()\n",
    "df_grouped.sort_values('CO2 Emissions(g/km)')"
   ]
  },
  {
   "cell_type": "markdown",
   "id": "0618d17c",
   "metadata": {},
   "source": [
    "## 2.5 Jointure\n",
    "\n",
    "Nous pouvons fusionner (join) notre dataset à un autre dataset contenant les pays d'appartenance des fabricants. Pour cela nous utilisons le fichier `data/Make_countries.csv` :"
   ]
  },
  {
   "cell_type": "code",
   "execution_count": null,
   "id": "2a6e8429",
   "metadata": {},
   "outputs": [],
   "source": [
    "!head '/data/Make_countries.csv'"
   ]
  },
  {
   "cell_type": "code",
   "execution_count": null,
   "id": "09c10f37",
   "metadata": {},
   "outputs": [],
   "source": [
    "df_maker_countries = pd.read_csv('/data/Make_countries.csv')\n",
    "df_maker_countries.head()"
   ]
  },
  {
   "cell_type": "markdown",
   "id": "2aad3e02",
   "metadata": {},
   "source": [
    "Appliquons une jointure sur nos deux datasets, nous avons finalement rajouté une colonne indiquant le pays d'appartenance d'un véhicule donné (issue de son fabricant) :"
   ]
  },
  {
   "cell_type": "code",
   "execution_count": null,
   "id": "787b3e19",
   "metadata": {},
   "outputs": [],
   "source": [
    "df_merged = pd.merge(df, df_maker_countries, on='Make')\n",
    "df_merged.head()"
   ]
  },
  {
   "cell_type": "markdown",
   "id": "96303190",
   "metadata": {},
   "source": [
    "Nous pouvons ensuite regrouper nos véhicules par pays et trier les lignes par émissions de CO2 par km :"
   ]
  },
  {
   "cell_type": "code",
   "execution_count": null,
   "id": "ee0ee460",
   "metadata": {},
   "outputs": [],
   "source": [
    "df_grouped = df_merged.groupby('Country').mean()\n",
    "df_grouped.sort_values('CO2 Emissions(g/km)')"
   ]
  },
  {
   "cell_type": "markdown",
   "id": "ff59d415",
   "metadata": {},
   "source": [
    "Attention : le nombre de véhicules par pays n'est pas représentatif, ce dataset ne concerne qu'une partie du marché canadien. Aussi les émissions de CO2 par km pour la France, par exemple, sont faussé par le fait que le seul fabricant français soit Bugatti."
   ]
  },
  {
   "cell_type": "code",
   "execution_count": null,
   "id": "bad31ec1",
   "metadata": {},
   "outputs": [],
   "source": [
    "df_count_per_countries = pd.DataFrame(\n",
    "    [df_merged.Country.value_counts(), df_maker_countries.Country.value_counts()]\n",
    ").T\n",
    "df_count_per_countries.columns = ['number of vehicules', 'number of maker']\n",
    "df_count_per_countries"
   ]
  },
  {
   "cell_type": "markdown",
   "id": "0a8d8cbf",
   "metadata": {},
   "source": [
    "## 2.7 Visualisation\n",
    "\n",
    "Nous pouvons visualiser les données en utilisant directement les méthodes disponibles dans Pandas (qui utilisent la librairie matplotlib) :"
   ]
  },
  {
   "cell_type": "code",
   "execution_count": null,
   "id": "9b7d5e22",
   "metadata": {},
   "outputs": [],
   "source": [
    "df['CO2 Emissions(g/km)'].hist(bins=100)    # distribution of CO2 emissions "
   ]
  },
  {
   "cell_type": "code",
   "execution_count": null,
   "id": "26f31481",
   "metadata": {},
   "outputs": [],
   "source": [
    "df['Make'].value_counts().hist()    # number of vehicules per make"
   ]
  },
  {
   "cell_type": "markdown",
   "id": "d6f12368",
   "metadata": {},
   "source": [
    "Ou la librairire Plotly (il est peut-être nécessaire de l'installer avant) :"
   ]
  },
  {
   "cell_type": "code",
   "execution_count": null,
   "id": "fc4324d5",
   "metadata": {},
   "outputs": [],
   "source": [
    "!pip  install plotly"
   ]
  },
  {
   "cell_type": "code",
   "execution_count": null,
   "id": "52039657",
   "metadata": {},
   "outputs": [],
   "source": [
    "import plotly.express as px\n",
    "fig = px.histogram(df, x=\"CO2 Emissions(g/km)\")\n",
    "fig.show()"
   ]
  },
  {
   "cell_type": "code",
   "execution_count": null,
   "id": "af783aea",
   "metadata": {},
   "outputs": [],
   "source": [
    "fig = px.histogram(df, x=\"Make\").update_xaxes(categoryorder=\"total descending\")\n",
    "fig.show()"
   ]
  },
  {
   "cell_type": "code",
   "execution_count": null,
   "id": "66d01fce",
   "metadata": {},
   "outputs": [],
   "source": [
    "fig = px.box(df, x=\"Make\", y=\"CO2 Emissions(g/km)\")\n",
    "fig.show()"
   ]
  },
  {
   "cell_type": "markdown",
   "id": "be079c3f",
   "metadata": {},
   "source": [
    "## 2.8 Excercice\n",
    "\n",
    "* Afficher un box plot des émissions de CO2 par km par type de véhicule\n",
    "* Afficher un [scatter plot](https://plotly.com/python/line-and-scatter/) des émissions de CO2 par km en fonction de la consommation de carburant\n",
    "* Quel est le facteur qui explique les différentes modalités de cette relation ?"
   ]
  },
  {
   "cell_type": "markdown",
   "id": "0ece0e33",
   "metadata": {},
   "source": [
    "Box plot des émissions de CO2 par km par type (class) de véhicule :"
   ]
  },
  {
   "cell_type": "code",
   "execution_count": null,
   "id": "e93a3035",
   "metadata": {},
   "outputs": [],
   "source": [
    "fig = px.box(df, x=\"Vehicle Class\", y=\"CO2 Emissions(g/km)\")\n",
    "fig.show()"
   ]
  },
  {
   "cell_type": "markdown",
   "id": "1b8e1b25",
   "metadata": {},
   "source": [
    "Scatter plot des émissions de CO2 par km en fonction de la consommation de carburant, le type de carburant explique les différentes modalités de cette relation :"
   ]
  },
  {
   "cell_type": "code",
   "execution_count": null,
   "id": "af4ddd21",
   "metadata": {},
   "outputs": [],
   "source": [
    "fig = px.scatter(df, x='Fuel Consumption Comb (L/100 km)', y='CO2 Emissions(g/km)', color='Fuel Type')\n",
    "fig.show()"
   ]
  }
 ],
 "metadata": {
  "kernelspec": {
   "display_name": "Python 3",
   "language": "python",
   "name": "python3"
  },
  "language_info": {
   "codemirror_mode": {
    "name": "ipython",
    "version": 3
   },
   "file_extension": ".py",
   "mimetype": "text/x-python",
   "name": "python",
   "nbconvert_exporter": "python",
   "pygments_lexer": "ipython3",
   "version": "3.8.8"
  }
 },
 "nbformat": 4,
 "nbformat_minor": 5
}
