{
 "cells": [
  {
   "cell_type": "markdown",
   "id": "7942d36e",
   "metadata": {},
   "source": [
    "# 4. Autres méthodes d'analyse factorielle\n",
    "\n",
    "Dans ce notebook, nous allons utiliser d'autres méthodes d'analyse factorielle en utilisant la librairie [prince](https://github.com/MaxHalford/prince).\n",
    "\n",
    "Cette librairie n'est probablement pas installée par défaut :"
   ]
  },
  {
   "cell_type": "code",
   "execution_count": null,
   "id": "92d2c37d",
   "metadata": {},
   "outputs": [],
   "source": [
    "!pip install prince==0.7.1"
   ]
  },
  {
   "cell_type": "code",
   "execution_count": null,
   "id": "bfd0021a",
   "metadata": {},
   "outputs": [],
   "source": [
    "import pandas as pd\n",
    "import numpy as np\n",
    "import matplotlib.pyplot as plt\n",
    "from matplotlib.collections import LineCollection\n",
    "import seaborn as sns\n",
    "import prince"
   ]
  },
  {
   "cell_type": "markdown",
   "id": "59596438",
   "metadata": {},
   "source": [
    "## 4.1 Analyse factorielle des correspondances\n",
    "\n",
    "Nous allons appliquer une analyse des correspondances (Correspondence Analysis) sur un jeu de données contenant un tableau de contingence du nombre de prix nobels obtenus par certains pays dans certaines catégories.\n",
    "\n",
    "Chargez le jeu de données `nobel_data.csv` dans un dataframe en utilisant le paramètre `index_col` pour indiquer à Pandas que l'index de notre dataframe sera la colonne `Country` :"
   ]
  },
  {
   "cell_type": "code",
   "execution_count": null,
   "id": "5b78175e",
   "metadata": {},
   "outputs": [],
   "source": []
  },
  {
   "cell_type": "markdown",
   "id": "400ba372",
   "metadata": {},
   "source": [
    "Instancier la classe `CA` (les paramètres par défaut conviennent pour notre cas d'étude) et exécuter la méthode ` fit` sur la dataframe :"
   ]
  },
  {
   "cell_type": "code",
   "execution_count": null,
   "id": "153e3ed8",
   "metadata": {},
   "outputs": [],
   "source": []
  },
  {
   "cell_type": "markdown",
   "id": "2ed40e8d",
   "metadata": {},
   "source": [
    "Visualisez les coordonnées des lignes et des colonnes avec les méthodes `row_coordinates`, et `column_coordinates` de votre objet `ca` :"
   ]
  },
  {
   "cell_type": "code",
   "execution_count": null,
   "id": "de89148d",
   "metadata": {},
   "outputs": [],
   "source": []
  },
  {
   "cell_type": "markdown",
   "id": "08aabd42",
   "metadata": {},
   "source": [
    "Projetez ces coordonnées dans le plan obtenu avec la méthode `plot_coordinates` (vous pouvez utiliser le paramètre `figsize=(8, 8)` pour obtenir un graphique plus lisible).\n",
    "\n",
    "Sachant que les points (aussi bien les pays que les catégories de prix Nobel) de notre tableau de contingence sont éloignés du centre de notre projection, que pouvez-vous en conclure ?"
   ]
  },
  {
   "cell_type": "code",
   "execution_count": null,
   "id": "262c494f",
   "metadata": {},
   "outputs": [],
   "source": []
  },
  {
   "cell_type": "markdown",
   "id": "a14dd815",
   "metadata": {},
   "source": [
    "Les deux cellules suivantes affichent une représentation des profils moyen des lignes et des colonnes de notre tableau de contingence. Observez-vous un lien avec le graphique précédent ?"
   ]
  },
  {
   "cell_type": "code",
   "execution_count": null,
   "id": "f157657e",
   "metadata": {},
   "outputs": [],
   "source": [
    "df_norm_country = df.T*100/df.T.sum()\n",
    "df_norm_country['Mean profile'] = df_norm_country.mean(axis=1)\n",
    "sns.heatmap(df_norm_country.T, cmap=\"YlGnBu\", annot=True, cbar=False)"
   ]
  },
  {
   "cell_type": "code",
   "execution_count": null,
   "id": "faab8f67",
   "metadata": {},
   "outputs": [],
   "source": [
    "df_norm_category = df*100/df.sum()\n",
    "df_norm_category['Mean profile'] = df_norm_category.mean(axis=1)\n",
    "sns.heatmap(df_norm_category, cmap=\"YlGnBu\", annot=True, cbar=False)"
   ]
  },
  {
   "cell_type": "markdown",
   "id": "fd3afef2",
   "metadata": {},
   "source": [
    "Nous allons maintenant appliquer cette méthode pour découvrir les correspondances pour des variables qualitatives d'un dataset contenant le résultat d'un recencement aux états-unis : [UCI Adult Dataset](https://archive.ics.uci.edu/ml/datasets/adult).\n",
    "\n",
    "Chargez le dataset `adult-data.csv` dans une dataframe et déterminez quelles sont les variables qualitatives :"
   ]
  },
  {
   "cell_type": "code",
   "execution_count": null,
   "id": "04a850fb",
   "metadata": {},
   "outputs": [],
   "source": []
  },
  {
   "cell_type": "markdown",
   "id": "cf7d49c1",
   "metadata": {},
   "source": [
    "Créez des tableaux de contingence pour certains couples de variables qualitatives en utilisant la méthode [pandas.crosstab](https://pandas.pydata.org/pandas-docs/stable/reference/api/pandas.crosstab.html) (les deux premiers arguments de cette méthode seront des colonnes de notre dataframe, par exemple `df.education`) et réalisez une analyse factorielle des correspondances sur ces couples de variables :"
   ]
  },
  {
   "cell_type": "code",
   "execution_count": null,
   "id": "30a37d8a",
   "metadata": {},
   "outputs": [],
   "source": []
  },
  {
   "cell_type": "markdown",
   "id": "503ca6e4",
   "metadata": {},
   "source": [
    "## 4.2 Analyse des correspondances multiples\n",
    "\n",
    "Nous allons appliquer une Analyse des correspondances multiples (Multiple Correspondence Analysis) sur un jeu de données contenant des informations sur des ballons [UCI balloons dataset](https://archive.ics.uci.edu/ml/datasets/balloons).\n",
    "\n",
    "Chargez ce dataset dans une dataframe depuis l'adresse `https://archive.ics.uci.edu/ml/machine-learning-databases/balloons/adult+stretch.data` (la méthode `read_csv` de Pandas peut charger des fichiers CSV depuis une URL) et définissez les colonnes comme étant la liste `['Color', 'Size', 'Action', 'Age', 'Inflated']` :"
   ]
  },
  {
   "cell_type": "code",
   "execution_count": null,
   "id": "756a3a8d",
   "metadata": {
    "scrolled": true
   },
   "outputs": [],
   "source": []
  },
  {
   "cell_type": "markdown",
   "id": "a808833a",
   "metadata": {},
   "source": [
    "Instancier la classe `MCA` de prince (les paramètres par défaut conviennent pour notre cas d'étude) et exécuter la méthode ` fit` sur la dataframe :"
   ]
  },
  {
   "cell_type": "code",
   "execution_count": null,
   "id": "d1176519",
   "metadata": {},
   "outputs": [],
   "source": []
  },
  {
   "cell_type": "markdown",
   "id": "cf32e8aa",
   "metadata": {},
   "source": [
    "Projetez les individus et les variables sur les deux premières composantes principales  avec la méthode `plot_coordinates` :\n",
    "* les paramètres `x_component` et `y_component` prennent des entiers en paramètres pour indiquer les composantes à utiliser\n",
    "* vous pouvez utiliser le paramètre `figsize=(8, 8)` pour obtenir un graphique plus lisible\n",
    "* testez les effets des paramètres booléens `show_row_points`, `show_row_labels`, `show_column_points` et `show_column_labels`\n",
    "* que pouvez-vous conclure sur cette approche sur ce dataset à partir de l'inertie des composantes principales ? (affichées sur le graphique ou accessibles avec l'attribut `explained_inertia_` de votre instance de `MCA`)"
   ]
  },
  {
   "cell_type": "code",
   "execution_count": null,
   "id": "ee954ced",
   "metadata": {},
   "outputs": [],
   "source": []
  },
  {
   "cell_type": "markdown",
   "id": "ddc57115",
   "metadata": {},
   "source": [
    "Les variables affichées dans ce graphique ont été transformées en indicateurs booléens (one hot encoding), utilisez la méthode [pandas.get_dummies](https://pandas.pydata.org/docs/reference/api/pandas.get_dummies.html) pour afficher le résultat de cette transformation :"
   ]
  },
  {
   "cell_type": "code",
   "execution_count": null,
   "id": "e78cbadf",
   "metadata": {},
   "outputs": [],
   "source": []
  },
  {
   "cell_type": "markdown",
   "id": "3d1bc85b",
   "metadata": {},
   "source": [
    "Nous allons appliquer une MCA sur le dataset du recensement américain. Rechargez le si besoin, puis supprimer les colonnes numériques (`fnlwgt`, `age`, `education-num`, `hours-per-week`, `capital-gain`, `capital-loss` et `salary`) avant d'appliquer la MCA.\n",
    "\n",
    "En fonction de l'inertie obtenue pour les premières composantes, que pouvez-vous conclure sur l'efficacité de cette approche appliquée à ce dataset ?"
   ]
  },
  {
   "cell_type": "code",
   "execution_count": null,
   "id": "845ebd72",
   "metadata": {
    "scrolled": true
   },
   "outputs": [],
   "source": []
  },
  {
   "cell_type": "markdown",
   "id": "d6756be0",
   "metadata": {},
   "source": [
    "## 4.3 Analyse factorielle des données mixtes\n",
    "\n",
    "Nous allons appliquer une Analyse factorielle des données mixtes (Factor analysis of mixed data) sur un jeu de données d'un recensement américan.\n",
    "\n",
    "Instancier la classe `FAMD` de prince (passer la valeur 4 pour le paramètre `n_components`, ce paramètre défini le nombre de composantes souhaitées) et exécuter la méthode ` fit` sur la dataframe :"
   ]
  },
  {
   "cell_type": "code",
   "execution_count": null,
   "id": "901fc66c",
   "metadata": {},
   "outputs": [],
   "source": []
  },
  {
   "cell_type": "markdown",
   "id": "7b08d92c",
   "metadata": {},
   "source": [
    "L'attribut `groups` de votre instane de `FAMD` indique quelles sont les attributs qualitatifs et quantitatifs de notre dataset. Vous pouvez retrouver cette information avec Pandas :\n",
    "```python\n",
    "num_cols = df.select_dtypes(np.number).columns.tolist()\n",
    "cat_cols = list(set(df.columns) - set(num_cols))\n",
    "```"
   ]
  },
  {
   "cell_type": "code",
   "execution_count": null,
   "id": "58165182",
   "metadata": {},
   "outputs": [],
   "source": []
  },
  {
   "cell_type": "markdown",
   "id": "12b699e6",
   "metadata": {},
   "source": [
    "Projetez les individus sur les deux premières composantes principales  avec la méthode `plot_row_coordinates` :\n",
    "* les paramètres `x_component` et `y_component` prennent des entiers en paramètres pour indiquer les composantes à utiliser\n",
    "* vous pouvez utiliser le paramètre `figsize=(20, 20)` pour obtenir un graphique plus lisible\n",
    "* que pouvez-vous conclure sur cette approche sur ce dataset à partir de l'inertie des composantes principales par apport à celles obtenues avec l'analyse des correspondances multiples ? (affichées sur le graphique ou accessibles avec l'attribut `explained_inertia_` de votre instance de `FAMD`)\n",
    "* testez l'effet du paramètre `color_labels` en lui passant la colonne `salary` de notre dataframe d'origine. Que pouvez-vous conclure ?\n",
    "* essayez d'autres couples de composantes (et éventuellement plus de composantes)"
   ]
  },
  {
   "cell_type": "code",
   "execution_count": null,
   "id": "ee36e953",
   "metadata": {
    "scrolled": false
   },
   "outputs": [],
   "source": []
  },
  {
   "cell_type": "markdown",
   "id": "34b87519",
   "metadata": {},
   "source": [
    "La fonction suivante vous permet d'afficher un graphique représentant la variance expliquée par les différentes composantes principales et la variance cumulée.\n",
    "\n",
    "Combien vous faut-il de composantes pour expliquer plus de 75% de la variance ?"
   ]
  },
  {
   "cell_type": "code",
   "execution_count": null,
   "id": "a75e04ed",
   "metadata": {},
   "outputs": [],
   "source": [
    "def display_scree_plot(famd):\n",
    "    '''Display a scree plot for the pca'''\n",
    "\n",
    "    scree = famd.explained_inertia_*100\n",
    "    plt.figure(figsize=(15,8))\n",
    "    plt.bar(np.arange(len(scree))+1, scree)\n",
    "    plt.plot(np.arange(len(scree))+1, scree.cumsum(),c=\"red\",marker='o')\n",
    "    plt.xlabel(\"Number of principal components\")\n",
    "    plt.ylabel(\"Percentage explained variance\")\n",
    "    plt.title(\"Scree plot\")\n",
    "    plt.show(block=False)"
   ]
  },
  {
   "cell_type": "code",
   "execution_count": null,
   "id": "eec1371e",
   "metadata": {},
   "outputs": [],
   "source": []
  },
  {
   "cell_type": "markdown",
   "id": "aba49b3b",
   "metadata": {},
   "source": [
    "L'attribut `V_` de votre instance de FAMD contient les vecteurs propres des composantes (i.e. : les coefficient). La fonction suivante est une adaptation à la FAMD de la fonction affichant les cercles de corrélation de l'ACP, ses paramètres sont :\n",
    "* `famd` : une instance de FAMD\n",
    "* `df` : la dataframe sur laquelle la FAMD a été appliquée\n",
    "* `axis_ranks` : list, les indices des paires d'axes à afficher (chaque paire affichera un nouveau cercle de corrélation), exemple : [(0,1)]\n",
    "* `min_variance` : seuil inférieur de variance pour les variables à conserver (au dela d'un certain nombre de variables, le graphique devient illisible)\n",
    "\n",
    "Appliquez cette fonction sur votre FAMD avec ou sans seuil de variance et expliquez la coloration du nuage de point obtenu précédement."
   ]
  },
  {
   "cell_type": "code",
   "execution_count": null,
   "id": "a7f9056f",
   "metadata": {
    "scrolled": false
   },
   "outputs": [],
   "source": [
    "def display_circles(famd, df, axis_ranks, label_rotation=0, lims=None, min_variance=0.15):\n",
    "    \"\"\"Display correlation circles, one for each factorial plane\"\"\"\n",
    "\n",
    "    pcs = pd.DataFrame(famd.V_, columns=famd._build_X_global(df).columns).T\n",
    "\n",
    "    # For each factorial plane\n",
    "    for d1, d2 in axis_ranks: \n",
    "        if min_variance is not None:\n",
    "            fpcs = pcs[(pcs[d1] >= min_variance) | (pcs[d2] > min_variance)]\n",
    "        else:\n",
    "            fpcs = pcs\n",
    "        labels = fpcs.index.tolist()\n",
    "\n",
    "        # Initialise the matplotlib figure\n",
    "        fig, ax = plt.subplots(figsize=(10,10))\n",
    "\n",
    "        # Determine the limits of the chart\n",
    "        xmin, xmax, ymin, ymax = -1, 1, -1, 1\n",
    "#         if lims is not None :\n",
    "#             xmin, xmax, ymin, ymax = lims\n",
    "#         elif fpcs.shape[1] < 30 :\n",
    "#             xmin, xmax, ymin, ymax = -1, 1, -1, 1\n",
    "#         else :\n",
    "#             xmin, xmax, ymin, ymax = min(fpcs[d1]), max(fpcs[d1]), min(fpcs[d2]), max(fpcs[d2])\n",
    "\n",
    "        # Add arrows\n",
    "        # If there are more than 30 arrows, we do not display the triangle at the end\n",
    "        if fpcs.shape[0] < 30 :\n",
    "            plt.quiver(np.zeros(fpcs.shape[0]), np.zeros(fpcs.shape[0]),\n",
    "               fpcs[d1], fpcs[d2], \n",
    "               angles='xy', scale_units='xy', scale=1, color=\"grey\")\n",
    "            # (see the doc : https://matplotlib.org/api/_as_gen/matplotlib.pyplot.quiver.html)\n",
    "        else:\n",
    "            lines = [[[0,0],[x,y]] for x,y in fpcs[[d1,d2]].values]\n",
    "            ax.add_collection(LineCollection(lines, axes=ax, alpha=.1, color='black'))\n",
    "\n",
    "        # Display variable names\n",
    "        if labels is not None:  \n",
    "            for i,(x, y) in enumerate(fpcs[[d1,d2]].values):\n",
    "                if x >= xmin and x <= xmax and y >= ymin and y <= ymax :\n",
    "                    plt.text(x, y, labels[i], fontsize='14', ha='center', va='center', rotation=label_rotation, color=\"blue\", alpha=0.5)\n",
    "\n",
    "        # Display circle\n",
    "        circle = plt.Circle((0,0), 1, facecolor='none', edgecolor='b')\n",
    "        plt.gca().add_artist(circle)\n",
    "\n",
    "        # Define the limits of the chart\n",
    "        plt.xlim(xmin, xmax)\n",
    "        plt.ylim(ymin, ymax)\n",
    "\n",
    "        # Display grid lines\n",
    "        plt.plot([-1, 1], [0, 0], color='grey', ls='--')\n",
    "        plt.plot([0, 0], [-1, 1], color='grey', ls='--')\n",
    "\n",
    "        # Label the axes, with the percentage of variance explained\n",
    "        plt.xlabel('PC{} ({}%)'.format(d1+1, round(100*famd.explained_inertia_[d1],1)))\n",
    "        plt.ylabel('PC{} ({}%)'.format(d2+1, round(100*famd.explained_inertia_[d2],1)))\n",
    "\n",
    "        plt.title(\"Correlation Circle (PC{} and PC{})\".format(d1+1, d2+1))\n",
    "        plt.show(block=False)"
   ]
  },
  {
   "cell_type": "code",
   "execution_count": null,
   "id": "a78acac0",
   "metadata": {},
   "outputs": [],
   "source": []
  },
  {
   "cell_type": "markdown",
   "id": "f1dc701f",
   "metadata": {},
   "source": [
    "## 4.4 Application au dataset Titanic\n",
    "\n",
    "Le fichier `titanic.csv` contient des données qualitatives et quantitatives sur certains passagers du titanic ainsi qu'une classe booléenne indiquant s'ils ont survécu ou non (`Survived`). La colonne d'index est `PassengerId`.\n",
    "\n",
    "Utilisez les méthodes précédentes pour analyser ce dataset.\n",
    "\n",
    "Attention : la variable `Name` n'est probablement pas utile. Certaines variables contiennent des valeurs manquantes, vous pouvez les laissez tels quels ou affecter la moyenne ou le mode ([pandas.DataFrame.mode](https://pandas.pydata.org/docs/reference/api/pandas.DataFrame.mode.html)) des colonnes pour ces individus.\n",
    "\n",
    "\n",
    "Voici une définition des variables :\n",
    "* Survived: Survival (0 = No, 1 = Yes)\n",
    "* Pclass: Ticket class (1 = 1st, 2 = 2nd, 3 = 3rd)\n",
    "* Name: name\n",
    "* Sex: Sex\t\n",
    "* Age: Age in years\t\n",
    "* Sibsp: # of siblings / spouses aboard the Titanic\t\n",
    "* Parch: # of parents / children aboard the Titanic\t\n",
    "* Ticket: Ticket number\t\n",
    "* Fare: Passenger fare\t\n",
    "* Cabin: Cabin number\t\n",
    "* Embarked: Port of Embarkation\tC = Cherbourg, Q = Queenstown, S = Southampton"
   ]
  },
  {
   "cell_type": "code",
   "execution_count": null,
   "id": "707a9f36",
   "metadata": {},
   "outputs": [],
   "source": []
  }
 ],
 "metadata": {
  "kernelspec": {
   "display_name": "Python 3",
   "language": "python",
   "name": "python3"
  },
  "language_info": {
   "codemirror_mode": {
    "name": "ipython",
    "version": 3
   },
   "file_extension": ".py",
   "mimetype": "text/x-python",
   "name": "python",
   "nbconvert_exporter": "python",
   "pygments_lexer": "ipython3",
   "version": "3.8.8"
  }
 },
 "nbformat": 4,
 "nbformat_minor": 5
}
