{
 "cells": [
  {
   "cell_type": "markdown",
   "id": "829584d2",
   "metadata": {},
   "source": [
    "# Professions\n",
    "\n",
    "Dans ce notebook, nous allons étudier un dataset contenant la profession occupé par différents individus."
   ]
  },
  {
   "cell_type": "code",
   "execution_count": null,
   "id": "184bb1b2",
   "metadata": {},
   "outputs": [],
   "source": [
    "import pandas as pd"
   ]
  },
  {
   "cell_type": "markdown",
   "id": "6b6848c6",
   "metadata": {},
   "source": [
    "### Chargez le dataset `occupations.csv` dans une DataFrame\n",
    "\n",
    "Consigne : faites en sorte que la colonne `user_id` soit l'index de notre DataFrame."
   ]
  },
  {
   "cell_type": "code",
   "execution_count": null,
   "id": "6362dd0f",
   "metadata": {},
   "outputs": [],
   "source": [
    "df = pd.read_csv('/data/occupations.csv', index_col='user_id')"
   ]
  },
  {
   "cell_type": "markdown",
   "id": "fee1c509",
   "metadata": {},
   "source": [
    "### Affichez les premières lignes du dataset"
   ]
  },
  {
   "cell_type": "code",
   "execution_count": null,
   "id": "4fb8eef9",
   "metadata": {},
   "outputs": [],
   "source": [
    "df.head()"
   ]
  },
  {
   "cell_type": "markdown",
   "id": "1b07d2ed",
   "metadata": {},
   "source": [
    "### Calculez la moyenne d'age par profession (colonne `occupation`)"
   ]
  },
  {
   "cell_type": "code",
   "execution_count": null,
   "id": "96f0c9a4",
   "metadata": {},
   "outputs": [],
   "source": [
    "df.groupby('occupation').age.mean()"
   ]
  },
  {
   "cell_type": "markdown",
   "id": "9c1bceb4",
   "metadata": {},
   "source": [
    "### Calculez l'age minimum et maximum par profession"
   ]
  },
  {
   "cell_type": "code",
   "execution_count": null,
   "id": "8ea7896e",
   "metadata": {
    "scrolled": true
   },
   "outputs": [],
   "source": [
    "df.groupby('occupation').age.agg(['min', 'max'])"
   ]
  },
  {
   "cell_type": "markdown",
   "id": "7bc4f4a0",
   "metadata": {},
   "source": [
    "### Calculez l'age moyen pour chaque combinaison de profession et de sexe"
   ]
  },
  {
   "cell_type": "code",
   "execution_count": null,
   "id": "dac37126",
   "metadata": {},
   "outputs": [],
   "source": [
    "df.groupby(['occupation', 'gender']).age.mean()"
   ]
  },
  {
   "cell_type": "markdown",
   "id": "279c4f34",
   "metadata": {},
   "source": [
    "### Pourcentage de femmes et d'hommes par profession\n",
    "\n",
    "Ce calcul nécessite plusieurs étapes. Commencez pas calculer le nombre d'individus de chaque sexe et chaque profession en utilisant [`pandas.core.groupby.GroupBy.size`](https://pandas.pydata.org/docs/reference/api/pandas.core.groupby.GroupBy.size.html) puis affectez le résultat dans une variable nommée `gender_occupation`."
   ]
  },
  {
   "cell_type": "code",
   "execution_count": null,
   "id": "bda00495",
   "metadata": {
    "scrolled": true
   },
   "outputs": [],
   "source": [
    "gender_ocup = df.groupby(['occupation', 'gender']).size()"
   ]
  },
  {
   "cell_type": "markdown",
   "id": "0cb563eb",
   "metadata": {},
   "source": [
    "Calculez le nombre d'individus par profession, toujours en utilisant la méthode `size` puis affectez le résultat à une variable `occupation_count`."
   ]
  },
  {
   "cell_type": "code",
   "execution_count": null,
   "id": "2ae53cbf",
   "metadata": {
    "scrolled": true
   },
   "outputs": [],
   "source": [
    "occup_count = df.groupby(['occupation']).size()"
   ]
  },
  {
   "cell_type": "markdown",
   "id": "23a96081",
   "metadata": {},
   "source": [
    "Pour finir, diviser `gender_occupation` par `occupation_count`."
   ]
  },
  {
   "cell_type": "code",
   "execution_count": null,
   "id": "c2a6bec3",
   "metadata": {
    "scrolled": true
   },
   "outputs": [],
   "source": [
    "gender_ocup / occup_count"
   ]
  },
  {
   "cell_type": "markdown",
   "id": "6b89389a",
   "metadata": {},
   "source": [
    "### Pourcentage d'hommes par profession\n",
    "\n",
    "Une autre approche pour calculer le rapport femme/homme par profression consiste à calculer le pourcentage d'hommes par profession. Commencez par créer une fonction Python qui prend un paramètre en entrée et renvoie l'entier `1` quand ce paramètre vaut la chaine de caractère `M` et renvoie l'entier `0` sinon (ou si le paramètre vaut `F`)."
   ]
  },
  {
   "cell_type": "code",
   "execution_count": null,
   "id": "628f6f5b",
   "metadata": {},
   "outputs": [],
   "source": [
    "def gender_to_int(x):\n",
    "    if x == 'M':\n",
    "        return 1\n",
    "    return 0"
   ]
  },
  {
   "cell_type": "markdown",
   "id": "43ef2f63",
   "metadata": {},
   "source": [
    "Appliquez cette fonction sur la colonne `gender` de la DataFrame en utlisant la méthode [`pandas.DataFrame.apply`](https://pandas.pydata.org/docs/reference/api/pandas.DataFrame.apply.html) puis stockez le résultat dans une nouvelle colonne nommée `gender_int`."
   ]
  },
  {
   "cell_type": "code",
   "execution_count": null,
   "id": "7508bf32",
   "metadata": {},
   "outputs": [],
   "source": [
    "df['gender_int'] = df.gender.apply(gender_to_int)"
   ]
  },
  {
   "cell_type": "markdown",
   "id": "c121b60e",
   "metadata": {},
   "source": [
    "Finalement, divisez la somme de la colonne `gender_int` par profession par le nombre d'individus par profession."
   ]
  },
  {
   "cell_type": "code",
   "execution_count": null,
   "id": "b65b5a23",
   "metadata": {
    "scrolled": true
   },
   "outputs": [],
   "source": [
    "df.groupby('occupation').gender_int.sum() / df.groupby('occupation').size()"
   ]
  },
  {
   "cell_type": "code",
   "execution_count": null,
   "id": "921023e0",
   "metadata": {},
   "outputs": [],
   "source": []
  }
 ],
 "metadata": {
  "kernelspec": {
   "display_name": "Python 3",
   "language": "python",
   "name": "python3"
  },
  "language_info": {
   "codemirror_mode": {
    "name": "ipython",
    "version": 3
   },
   "file_extension": ".py",
   "mimetype": "text/x-python",
   "name": "python",
   "nbconvert_exporter": "python",
   "pygments_lexer": "ipython3",
   "version": "3.8.8"
  }
 },
 "nbformat": 4,
 "nbformat_minor": 5
}
